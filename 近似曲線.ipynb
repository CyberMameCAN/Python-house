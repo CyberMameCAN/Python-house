{
 "cells": [
  {
   "cell_type": "code",
   "execution_count": 1,
   "metadata": {},
   "outputs": [],
   "source": [
    "# データダウンロード　http://www.data.jma.go.jp/gmd/risk/obsdl/\n",
    "\n",
    "import pandas as pd\n",
    "from matplotlib import pyplot as plt\n",
    "import seaborn as sns\n",
    "import numpy as np\n",
    "from scipy import optimize as opt"
   ]
  },
  {
   "cell_type": "code",
   "execution_count": 2,
   "metadata": {
    "scrolled": true
   },
   "outputs": [
    {
     "data": {
      "text/html": [
       "<div>\n",
       "<style scoped>\n",
       "    .dataframe tbody tr th:only-of-type {\n",
       "        vertical-align: middle;\n",
       "    }\n",
       "\n",
       "    .dataframe tbody tr th {\n",
       "        vertical-align: top;\n",
       "    }\n",
       "\n",
       "    .dataframe thead th {\n",
       "        text-align: right;\n",
       "    }\n",
       "</style>\n",
       "<table border=\"1\" class=\"dataframe\">\n",
       "  <thead>\n",
       "    <tr style=\"text-align: right;\">\n",
       "      <th></th>\n",
       "      <th>time</th>\n",
       "      <th>temp</th>\n",
       "      <th>temp.1</th>\n",
       "      <th>temp.2</th>\n",
       "      <th>wind</th>\n",
       "      <th>wind.1</th>\n",
       "      <th>wind.2</th>\n",
       "      <th>wind.3</th>\n",
       "      <th>wind.4</th>\n",
       "    </tr>\n",
       "  </thead>\n",
       "  <tbody>\n",
       "    <tr>\n",
       "      <th>0</th>\n",
       "      <td>2017/12/2 1:00:00</td>\n",
       "      <td>5.2</td>\n",
       "      <td>8</td>\n",
       "      <td>1</td>\n",
       "      <td>3.6</td>\n",
       "      <td>8</td>\n",
       "      <td>東北東</td>\n",
       "      <td>8</td>\n",
       "      <td>1</td>\n",
       "    </tr>\n",
       "    <tr>\n",
       "      <th>1</th>\n",
       "      <td>2017/12/2 2:00:00</td>\n",
       "      <td>5.0</td>\n",
       "      <td>8</td>\n",
       "      <td>1</td>\n",
       "      <td>3.5</td>\n",
       "      <td>8</td>\n",
       "      <td>東北東</td>\n",
       "      <td>8</td>\n",
       "      <td>1</td>\n",
       "    </tr>\n",
       "    <tr>\n",
       "      <th>2</th>\n",
       "      <td>2017/12/2 3:00:00</td>\n",
       "      <td>4.8</td>\n",
       "      <td>8</td>\n",
       "      <td>1</td>\n",
       "      <td>3.2</td>\n",
       "      <td>8</td>\n",
       "      <td>東北東</td>\n",
       "      <td>8</td>\n",
       "      <td>1</td>\n",
       "    </tr>\n",
       "    <tr>\n",
       "      <th>3</th>\n",
       "      <td>2017/12/2 4:00:00</td>\n",
       "      <td>4.6</td>\n",
       "      <td>8</td>\n",
       "      <td>1</td>\n",
       "      <td>3.8</td>\n",
       "      <td>8</td>\n",
       "      <td>東北東</td>\n",
       "      <td>8</td>\n",
       "      <td>1</td>\n",
       "    </tr>\n",
       "    <tr>\n",
       "      <th>4</th>\n",
       "      <td>2017/12/2 5:00:00</td>\n",
       "      <td>4.8</td>\n",
       "      <td>8</td>\n",
       "      <td>1</td>\n",
       "      <td>4.1</td>\n",
       "      <td>8</td>\n",
       "      <td>東北東</td>\n",
       "      <td>8</td>\n",
       "      <td>1</td>\n",
       "    </tr>\n",
       "  </tbody>\n",
       "</table>\n",
       "</div>"
      ],
      "text/plain": [
       "                time  temp  temp.1  temp.2  wind  wind.1 wind.2  wind.3  \\\n",
       "0  2017/12/2 1:00:00   5.2       8       1   3.6       8    東北東       8   \n",
       "1  2017/12/2 2:00:00   5.0       8       1   3.5       8    東北東       8   \n",
       "2  2017/12/2 3:00:00   4.8       8       1   3.2       8    東北東       8   \n",
       "3  2017/12/2 4:00:00   4.6       8       1   3.8       8    東北東       8   \n",
       "4  2017/12/2 5:00:00   4.8       8       1   4.1       8    東北東       8   \n",
       "\n",
       "   wind.4  \n",
       "0       1  \n",
       "1       1  \n",
       "2       1  \n",
       "3       1  \n",
       "4       1  "
      ]
     },
     "execution_count": 2,
     "metadata": {},
     "output_type": "execute_result"
    }
   ],
   "source": [
    "kion = pd.read_csv(\"kion_20171202.csv\")\n",
    "kion.head()"
   ]
  },
  {
   "cell_type": "code",
   "execution_count": 28,
   "metadata": {},
   "outputs": [
    {
     "data": {
      "text/html": [
       "<div>\n",
       "<style scoped>\n",
       "    .dataframe tbody tr th:only-of-type {\n",
       "        vertical-align: middle;\n",
       "    }\n",
       "\n",
       "    .dataframe tbody tr th {\n",
       "        vertical-align: top;\n",
       "    }\n",
       "\n",
       "    .dataframe thead th {\n",
       "        text-align: right;\n",
       "    }\n",
       "</style>\n",
       "<table border=\"1\" class=\"dataframe\">\n",
       "  <thead>\n",
       "    <tr style=\"text-align: right;\">\n",
       "      <th></th>\n",
       "      <th>temp</th>\n",
       "      <th>temp.1</th>\n",
       "      <th>temp.2</th>\n",
       "      <th>wind</th>\n",
       "      <th>wind.1</th>\n",
       "      <th>wind.3</th>\n",
       "      <th>wind.4</th>\n",
       "    </tr>\n",
       "  </thead>\n",
       "  <tbody>\n",
       "    <tr>\n",
       "      <th>count</th>\n",
       "      <td>24.000000</td>\n",
       "      <td>24.0</td>\n",
       "      <td>24.0</td>\n",
       "      <td>24.000000</td>\n",
       "      <td>24.0</td>\n",
       "      <td>24.0</td>\n",
       "      <td>24.0</td>\n",
       "    </tr>\n",
       "    <tr>\n",
       "      <th>mean</th>\n",
       "      <td>8.862500</td>\n",
       "      <td>8.0</td>\n",
       "      <td>1.0</td>\n",
       "      <td>3.387500</td>\n",
       "      <td>8.0</td>\n",
       "      <td>8.0</td>\n",
       "      <td>1.0</td>\n",
       "    </tr>\n",
       "    <tr>\n",
       "      <th>std</th>\n",
       "      <td>3.116828</td>\n",
       "      <td>0.0</td>\n",
       "      <td>0.0</td>\n",
       "      <td>0.904728</td>\n",
       "      <td>0.0</td>\n",
       "      <td>0.0</td>\n",
       "      <td>0.0</td>\n",
       "    </tr>\n",
       "    <tr>\n",
       "      <th>min</th>\n",
       "      <td>4.600000</td>\n",
       "      <td>8.0</td>\n",
       "      <td>1.0</td>\n",
       "      <td>1.900000</td>\n",
       "      <td>8.0</td>\n",
       "      <td>8.0</td>\n",
       "      <td>1.0</td>\n",
       "    </tr>\n",
       "    <tr>\n",
       "      <th>25%</th>\n",
       "      <td>5.000000</td>\n",
       "      <td>8.0</td>\n",
       "      <td>1.0</td>\n",
       "      <td>2.650000</td>\n",
       "      <td>8.0</td>\n",
       "      <td>8.0</td>\n",
       "      <td>1.0</td>\n",
       "    </tr>\n",
       "    <tr>\n",
       "      <th>50%</th>\n",
       "      <td>10.700000</td>\n",
       "      <td>8.0</td>\n",
       "      <td>1.0</td>\n",
       "      <td>3.450000</td>\n",
       "      <td>8.0</td>\n",
       "      <td>8.0</td>\n",
       "      <td>1.0</td>\n",
       "    </tr>\n",
       "    <tr>\n",
       "      <th>75%</th>\n",
       "      <td>11.200000</td>\n",
       "      <td>8.0</td>\n",
       "      <td>1.0</td>\n",
       "      <td>4.025000</td>\n",
       "      <td>8.0</td>\n",
       "      <td>8.0</td>\n",
       "      <td>1.0</td>\n",
       "    </tr>\n",
       "    <tr>\n",
       "      <th>max</th>\n",
       "      <td>12.400000</td>\n",
       "      <td>8.0</td>\n",
       "      <td>1.0</td>\n",
       "      <td>5.600000</td>\n",
       "      <td>8.0</td>\n",
       "      <td>8.0</td>\n",
       "      <td>1.0</td>\n",
       "    </tr>\n",
       "  </tbody>\n",
       "</table>\n",
       "</div>"
      ],
      "text/plain": [
       "            temp  temp.1  temp.2       wind  wind.1  wind.3  wind.4\n",
       "count  24.000000    24.0    24.0  24.000000    24.0    24.0    24.0\n",
       "mean    8.862500     8.0     1.0   3.387500     8.0     8.0     1.0\n",
       "std     3.116828     0.0     0.0   0.904728     0.0     0.0     0.0\n",
       "min     4.600000     8.0     1.0   1.900000     8.0     8.0     1.0\n",
       "25%     5.000000     8.0     1.0   2.650000     8.0     8.0     1.0\n",
       "50%    10.700000     8.0     1.0   3.450000     8.0     8.0     1.0\n",
       "75%    11.200000     8.0     1.0   4.025000     8.0     8.0     1.0\n",
       "max    12.400000     8.0     1.0   5.600000     8.0     8.0     1.0"
      ]
     },
     "execution_count": 28,
     "metadata": {},
     "output_type": "execute_result"
    }
   ],
   "source": [
    "kion.describe()"
   ]
  },
  {
   "cell_type": "code",
   "execution_count": 31,
   "metadata": {},
   "outputs": [
    {
     "data": {
      "image/png": "[encoded data removed]",
      "text/plain": [
       "<Figure size 432x288 with 1 Axes>"
      ]
     },
     "metadata": {
      "needs_background": "light"
     },
     "output_type": "display_data"
    }
   ],
   "source": [
    "Px = np.arange(0, len(kion), 1)\n",
    "Py = kion['temp']\n",
    "plt.plot(Px, Py)\n",
    "plt.show()"
   ]
  },
  {
   "cell_type": "code",
   "execution_count": 38,
   "metadata": {},
   "outputs": [
    {
     "data": {
      "text/plain": [
       "array([[ 8.19453718e-07, -2.82711531e-05,  2.54604270e-04,\n",
       "        -4.35375759e-04],\n",
       "       [-2.82711531e-05,  1.00522386e-03, -9.47083621e-03,\n",
       "         1.75394230e-02],\n",
       "       [ 2.54604270e-04, -9.47083621e-03,  9.60453002e-02,\n",
       "        -2.06305904e-01],\n",
       "       [-4.35375759e-04,  1.75394230e-02, -2.06305904e-01,\n",
       "         6.48958618e-01]])"
      ]
     },
     "execution_count": 38,
     "metadata": {},
     "output_type": "execute_result"
    }
   ],
   "source": [
    "def fit_func(x, a, b, c, d):\n",
    "    return a * x**3 + b * x**2 + c * x + d\n",
    "\n",
    "popt, pcov = opt.curve_fit(fit_func, Px, Py)\n",
    "\n",
    "pcov"
   ]
  },
  {
   "cell_type": "code",
   "execution_count": 39,
   "metadata": {},
   "outputs": [
    {
     "data": {
      "image/png": "[encoded data removed]",
      "text/plain": [
       "<Figure size 432x288 with 1 Axes>"
      ]
     },
     "metadata": {
      "needs_background": "light"
     },
     "output_type": "display_data"
    }
   ],
   "source": [
    "def fit_func(x, a, b, c, d):\n",
    "    return a * x**3 + b * x**2 + c * x + d\n",
    "\n",
    "res = opt.curve_fit(fit_func, Px, Py)\n",
    "\n",
    "a = res[0][0]\n",
    "b = res[0][1]\n",
    "c = res[0][2]\n",
    "d = res[0][3]\n",
    "#print(\"a = %s\" % (a))\n",
    "#print(\"b = %s\" % (b))\n",
    "#print(\"c = %s\" % (c))\n",
    "#print(\"d = %s\" % (d))\n",
    "\n",
    "Px2 = []\n",
    "for x in Px:\n",
    "    Px2.append(a * x**3 + b * x**2 + c * x + d)\n",
    "    \n",
    "plt.plot(Px, Py)\n",
    "plt.plot(Px, np.array(Px2))\n",
    "plt.show()"
   ]
  },
  {
   "cell_type": "code",
   "execution_count": 40,
   "metadata": {},
   "outputs": [],
   "source": [
    "import pandas as pd\n",
    "from matplotlib import pyplot as plt\n",
    "import seaborn as sns\n",
    "import numpy as np\n",
    "from scipy import optimize as opt"
   ]
  },
  {
   "cell_type": "code",
   "execution_count": 8,
   "metadata": {},
   "outputs": [],
   "source": [
    "# 1次式の近似\n",
    "def func_c1(x, a, b):\n",
    "    return a*x + b\n",
    "res_c1 = opt.curve_fit(func_c1, Px, Py) #係数\n",
    "\n",
    "# 3次式の近似\n",
    "def func_c3(x, a, b, c, d):\n",
    "    return a*x**3 + b*x**2 + c*x +d\n",
    "res_c3 = opt.curve_fit(func_c3, Px, Py)"
   ]
  },
  {
   "cell_type": "code",
   "execution_count": 9,
   "metadata": {},
   "outputs": [
    {
     "data": {
      "text/plain": [
       "array([1. , 1.1, 1.2, 1.3, 1.4, 1.5, 1.6, 1.7, 1.8, 1.9, 2. , 2.1, 2.2,\n",
       "       2.3, 2.4, 2.5, 2.6, 2.7, 2.8, 2.9])"
      ]
     },
     "execution_count": 9,
     "metadata": {},
     "output_type": "execute_result"
    }
   ],
   "source": [
    "Px = np.arange(1.0, 3.0, 0.1)\n",
    "Px"
   ]
  },
  {
   "cell_type": "code",
   "execution_count": 10,
   "metadata": {},
   "outputs": [],
   "source": [
    "import csv\n",
    "\n",
    "csv_file = open(\"./データ.csv\", \"r\", encoding=\"utf-8\", errors=\"\", newline=\"\" )\n",
    "#リスト形式\n",
    "f = csv.reader(csv_file, delimiter=\",\", doublequote=True, lineterminator=\"\\r\\n\", quotechar='\"', skipinitialspace=True)\n",
    "#辞書形式\n",
    "#f = csv.DictReader(csv_file, delimiter=\",\", doublequote=True, lineterminator=\"\\r\\n\", quotechar='\"', skipinitialspace=True)\n"
   ]
  },
  {
   "cell_type": "code",
   "execution_count": 11,
   "metadata": {},
   "outputs": [],
   "source": [
    "csv_input = pd.read_csv(filepath_or_buffer=\"データ.csv\", encoding=\"utf-8\", sep=\",\")\n",
    "# インプットの項目数（行数 * カラム数）を返却します。\n",
    "#print(csv_input.size)\n",
    "# 指定したカラムだけ抽出したDataFrameオブジェクトを返却します。\n",
    "#print(csv_input[[\"コード\", \"銘柄名\"]]) "
   ]
  },
  {
   "cell_type": "code",
   "execution_count": 12,
   "metadata": {},
   "outputs": [
    {
     "name": "stdout",
     "output_type": "stream",
     "text": [
      "       X    My1\n",
      "0   1.00 -0.291\n",
      "1   1.03 -0.298\n",
      "2   1.10 -0.315\n",
      "3   1.20 -0.335\n",
      "4   1.23 -0.341\n",
      "5   1.30 -0.356\n",
      "6   1.36 -0.366\n",
      "7   1.37 -0.368\n",
      "8   1.40    NaN\n",
      "9   1.50    NaN\n",
      "10  1.52 -0.398\n",
      "11  1.57 -0.399\n",
      "12  1.59 -0.400\n",
      "13  1.60 -0.400\n",
      "14  1.70 -0.411\n",
      "15  1.80 -0.421\n",
      "16  1.90 -0.428\n",
      "17  2.00 -0.435\n",
      "18  2.10 -0.440\n",
      "19  2.20 -0.445\n",
      "20  2.30 -0.449\n",
      "21  2.40 -0.452\n",
      "22  2.50 -0.455\n",
      "23  2.60 -0.457\n",
      "24  2.70 -0.458\n",
      "25  2.80 -0.460\n",
      "26  2.90 -0.461\n",
      "27  3.00 -0.462\n",
      "28  3.10 -0.464\n",
      "29  3.20 -0.465\n",
      "30  3.30 -0.465\n",
      "31  3.40 -0.466\n",
      "32  3.50 -0.467\n",
      "33  3.60 -0.468\n",
      "34  3.70    NaN\n",
      "35  3.80 -0.469\n",
      "36  3.90    NaN\n",
      "37  4.00 -0.470\n"
     ]
    }
   ],
   "source": [
    "print(csv_input[[\"X\", \"My1\"]])"
   ]
  },
  {
   "cell_type": "code",
   "execution_count": 13,
   "metadata": {},
   "outputs": [
    {
     "name": "stdout",
     "output_type": "stream",
     "text": [
      "       X    My2\n",
      "0   1.00  0.041\n",
      "1   1.03  0.042\n",
      "2   1.10  0.045\n",
      "3   1.20  0.048\n",
      "4   1.23  0.049\n",
      "5   1.30  0.051\n",
      "6   1.36  0.052\n",
      "7   1.37  0.052\n",
      "8   1.40  0.053\n",
      "9   1.50  0.055\n",
      "10  1.52  0.055\n",
      "11  1.57  0.056\n",
      "12  1.59  0.057\n",
      "13  1.60  0.057\n",
      "14  1.70  0.058\n",
      "15  1.80  0.059\n",
      "16  1.90  0.060\n",
      "17  2.00  0.060\n",
      "18  2.10  0.060\n",
      "19  2.20    NaN\n",
      "20  2.30  0.059\n",
      "21  2.40  0.058\n",
      "22  2.50  0.057\n",
      "23  2.60    NaN\n",
      "24  2.70  0.056\n",
      "25  2.80  0.056\n",
      "26  2.90    NaN\n",
      "27  3.00    NaN\n",
      "28  3.10    NaN\n",
      "29  3.20  0.055\n",
      "30  3.30  0.054\n",
      "31  3.40  0.054\n",
      "32  3.50  0.054\n",
      "33  3.60  0.054\n",
      "34  3.70  0.054\n",
      "35  3.80  0.054\n",
      "36  3.90  0.054\n",
      "37  4.00  0.054\n"
     ]
    }
   ],
   "source": [
    "print(csv_input[[\"X\", \"My2\"]])"
   ]
  },
  {
   "cell_type": "code",
   "execution_count": 14,
   "metadata": {},
   "outputs": [
    {
     "name": "stdout",
     "output_type": "stream",
     "text": [
      "[[ 1.00e+00 -2.91e-01 -2.91e-01  4.10e-02  4.10e-02]\n",
      " [ 1.03e+00 -2.98e-01 -2.98e-01  4.00e-02  4.20e-02]\n",
      " [ 1.10e+00 -3.15e-01 -3.15e-01  3.70e-02  4.50e-02]\n",
      " [ 1.20e+00 -3.35e-01 -3.35e-01  3.30e-02  4.80e-02]\n",
      " [ 1.23e+00 -3.41e-01 -3.41e-01  3.20e-02  4.90e-02]\n",
      " [ 1.30e+00 -3.56e-01 -3.56e-01  2.90e-02  5.10e-02]\n",
      " [ 1.36e+00 -3.67e-01 -3.66e-01  2.70e-02  5.20e-02]\n",
      " [ 1.37e+00 -3.69e-01 -3.68e-01  2.70e-02  5.20e-02]\n",
      " [ 1.40e+00       nan       nan  2.60e-02  5.30e-02]\n",
      " [ 1.50e+00       nan       nan  2.20e-02  5.50e-02]\n",
      " [ 1.52e+00 -4.00e-01 -3.98e-01  2.20e-02  5.50e-02]\n",
      " [ 1.57e+00 -4.01e-01 -3.99e-01  2.10e-02  5.60e-02]\n",
      " [ 1.59e+00 -4.02e-01 -4.00e-01  2.00e-02  5.70e-02]\n",
      " [ 1.60e+00 -4.02e-01 -4.00e-01  1.90e-02  5.70e-02]\n",
      " [ 1.70e+00 -4.15e-01 -4.11e-01  1.70e-02  5.80e-02]\n",
      " [ 1.80e+00 -4.25e-01 -4.21e-01  1.40e-02  5.90e-02]\n",
      " [ 1.90e+00 -4.33e-01 -4.28e-01  1.20e-02  6.00e-02]\n",
      " [ 2.00e+00 -4.40e-01 -4.35e-01  1.00e-02  6.00e-02]\n",
      " [ 2.10e+00 -4.46e-01 -4.40e-01  8.00e-03  6.00e-02]\n",
      " [ 2.20e+00 -4.51e-01 -4.45e-01  7.00e-03       nan]\n",
      " [ 2.30e+00 -4.56e-01 -4.49e-01  5.00e-03  5.90e-02]\n",
      " [ 2.40e+00 -4.60e-01 -4.52e-01  4.00e-03  5.80e-02]\n",
      " [ 2.50e+00 -4.63e-01 -4.55e-01  3.00e-03  5.70e-02]\n",
      " [ 2.60e+00 -4.67e-01 -4.57e-01  2.00e-03       nan]\n",
      " [ 2.70e+00 -4.70e-01 -4.58e-01  1.00e-03  5.60e-02]\n",
      " [ 2.80e+00 -4.72e-01 -4.60e-01       nan  5.60e-02]\n",
      " [ 2.90e+00 -4.74e-01 -4.61e-01       nan       nan]\n",
      " [ 3.00e+00 -4.76e-01 -4.62e-01  0.00e+00       nan]\n",
      " [ 3.10e+00 -4.77e-01 -4.64e-01       nan       nan]\n",
      " [ 3.20e+00 -4.79e-01 -4.65e-01       nan  5.50e-02]\n",
      " [ 3.30e+00 -4.81e-01 -4.65e-01       nan  5.40e-02]\n",
      " [ 3.40e+00 -4.82e-01 -4.66e-01       nan  5.40e-02]\n",
      " [ 3.50e+00 -4.83e-01 -4.67e-01       nan  5.40e-02]\n",
      " [ 3.60e+00 -4.84e-01 -4.68e-01       nan  5.40e-02]\n",
      " [ 3.70e+00 -4.86e-01       nan       nan  5.40e-02]\n",
      " [ 3.80e+00 -4.87e-01 -4.69e-01       nan  5.40e-02]\n",
      " [ 3.90e+00 -4.88e-01       nan       nan  5.40e-02]\n",
      " [ 4.00e+00 -4.89e-01 -4.70e-01       nan  5.40e-02]]\n"
     ]
    }
   ],
   "source": [
    "print(csv_input.values)"
   ]
  },
  {
   "cell_type": "code",
   "execution_count": 15,
   "metadata": {},
   "outputs": [
    {
     "data": {
      "image/png": "[encoded data removed]",
      "text/plain": [
       "<Figure size 432x288 with 1 Axes>"
      ]
     },
     "metadata": {
      "needs_background": "light"
     },
     "output_type": "display_data"
    }
   ],
   "source": [
    "Px = csv_input['X']\n",
    "Py = csv_input['My1']\n",
    "plt.plot(Px, Py)\n",
    "plt.show()"
   ]
  },
  {
   "cell_type": "code",
   "execution_count": 16,
   "metadata": {},
   "outputs": [
    {
     "data": {
      "image/png": "[encoded data removed]",
      "text/plain": [
       "<Figure size 432x288 with 1 Axes>"
      ]
     },
     "metadata": {
      "needs_background": "light"
     },
     "output_type": "display_data"
    }
   ],
   "source": [
    "Py = csv_input['My2']\n",
    "plt.plot(Px, Py)\n",
    "plt.show()"
   ]
  },
  {
   "cell_type": "code",
   "execution_count": 17,
   "metadata": {},
   "outputs": [
    {
     "name": "stdout",
     "output_type": "stream",
     "text": [
      "a = 0.0044083840419247835\n",
      "b = -0.0375946324731205\n",
      "c = 0.10006115875194198\n",
      "d = -0.02549519228100529\n"
     ]
    },
    {
     "data": {
      "image/png": "[encoded data removed]",
      "text/plain": [
       "<Figure size 432x288 with 1 Axes>"
      ]
     },
     "metadata": {
      "needs_background": "light"
     },
     "output_type": "display_data"
    }
   ],
   "source": [
    "csv_input = pd.read_csv(filepath_or_buffer=\"X-My2.csv\", encoding=\"utf-8\", sep=\",\")\n",
    "\n",
    "Px = csv_input['X']\n",
    "Py = csv_input['My2']\n",
    "\n",
    "def fit_func(x, a, b, c, d):\n",
    "    return a * x**3 + b * x**2 + c * x + d\n",
    "\n",
    "res = opt.curve_fit(fit_func, Px, Py)\n",
    "\n",
    "a = res[0][0]\n",
    "b = res[0][1]\n",
    "c = res[0][2]\n",
    "d = res[0][3]\n",
    "print(\"a = %s\" % (a))\n",
    "print(\"b = %s\" % (b))\n",
    "print(\"c = %s\" % (c))\n",
    "print(\"d = %s\" % (d))\n",
    "\n",
    "Px2 = []\n",
    "for x in Px:\n",
    "    Px2.append(a * x**3 + b * x**2 + c * x + d)\n",
    "    \n",
    "fig, ax = plt.subplots()\n",
    "plt.plot(Px, Py)\n",
    "plt.plot(Px, np.array(Px2))\n",
    "#ax.invert_yaxis()\n",
    "plt.show()"
   ]
  },
  {
   "cell_type": "code",
   "execution_count": 18,
   "metadata": {},
   "outputs": [
    {
     "name": "stdout",
     "output_type": "stream",
     "text": [
      "a = -0.01732092939354321\n",
      "b = 0.1622255866028131\n",
      "c = -0.5079878080597829\n",
      "d = 0.06940905970430883\n"
     ]
    },
    {
     "data": {
      "image/png": "[encoded data removed]",
      "text/plain": [
       "<Figure size 432x288 with 1 Axes>"
      ]
     },
     "metadata": {
      "needs_background": "light"
     },
     "output_type": "display_data"
    }
   ],
   "source": [
    "csv_input = pd.read_csv(filepath_or_buffer=\"X-My1.csv\", encoding=\"utf-8\", sep=\",\")\n",
    "\n",
    "Px = csv_input['X']\n",
    "Py = csv_input['My1']\n",
    "\n",
    "#def fit_func(x, b, c, d):\n",
    "#    return b * x**2 + c * x + d\n",
    "def nonlinear_fit(x, a, b, c, d):\n",
    "    #return  b * np.exp(x / (a+x))\n",
    "    #return  b * x * np.exp(x / (a+x)) + b\n",
    "    #return  b * x * np.exp(x / (a+x)) + b\n",
    "    #return  b + a * np.log( (x ) )\n",
    "    return a * x**3 + b * x**2 + c * x + d\n",
    "\n",
    "\n",
    "res = opt.curve_fit(nonlinear_fit, Px, Py)\n",
    "\n",
    "a = res[0][0]\n",
    "b = res[0][1]\n",
    "c = res[0][2]\n",
    "d = res[0][3]\n",
    "\n",
    "print(\"a = %s\" % (a))\n",
    "print(\"b = %s\" % (b))\n",
    "print(\"c = %s\" % (c))\n",
    "print(\"d = %s\" % (d))\n",
    "\n",
    "\n",
    "Px2 = []\n",
    "for x in Px:\n",
    "    #Px2.append(b * x**2 + c * x + d)\n",
    "    #Px2.append( b * x * np.exp( x /(a + x) ) + b)\n",
    "    #Px2.append( b * x * np.exp( x /(a + x) ) + b)\n",
    "    #Px2.append( b + a * np.log( x  ) )\n",
    "    Px2.append( a * x**3 + b * x**2 + c * x + d )\n",
    "\n",
    "\n",
    "fig, ax = plt.subplots()\n",
    "plt.plot(Px, Py)\n",
    "plt.plot(Px, np.array(Px2))\n",
    "ax.invert_yaxis()\n",
    "plt.show()"
   ]
  },
  {
   "cell_type": "code",
   "execution_count": 19,
   "metadata": {},
   "outputs": [
    {
     "data": {
      "text/plain": [
       "<AxesSubplot:xlabel='X', ylabel='My1'>"
      ]
     },
     "execution_count": 19,
     "metadata": {},
     "output_type": "execute_result"
    },
    {
     "data": {
      "image/png": "[encoded data removed]",
      "text/plain": [
       "<Figure size 432x288 with 1 Axes>"
      ]
     },
     "metadata": {
      "needs_background": "light"
     },
     "output_type": "display_data"
    }
   ],
   "source": [
    "sns.pointplot(x=Px, y=Py, join=False)"
   ]
  },
  {
   "cell_type": "code",
   "execution_count": 20,
   "metadata": {
    "scrolled": true
   },
   "outputs": [],
   "source": [
    "def nonlinear_fit(x,a,b):\n",
    "    return  b * np.exp(x / (a+x)  )\n",
    "\n",
    "param, cov = opt.curve_fit(nonlinear_fit, Px, Py)"
   ]
  },
  {
   "cell_type": "code",
   "execution_count": 21,
   "metadata": {},
   "outputs": [
    {
     "data": {
      "image/png": "[encoded data removed]",
      "text/plain": [
       "<Figure size 432x288 with 1 Axes>"
      ]
     },
     "metadata": {
      "needs_background": "light"
     },
     "output_type": "display_data"
    }
   ],
   "source": [
    "Px2 = []\n",
    "for num in Px:\n",
    "    Px2.append( param[1] * np.exp( num /(param[0] + num) ))\n",
    "\n",
    "#sns.pointplot(x=Px, y=Py, join=False)\n",
    "#sns.pointplot(x=Px, y=np.array(list_y), markers=\"\")\n",
    "plt.plot(Px, Py)\n",
    "plt.plot(Px, np.array(Px2))\n",
    "plt.show()"
   ]
  },
  {
   "cell_type": "code",
   "execution_count": null,
   "metadata": {
    "collapsed": true
   },
   "outputs": [],
   "source": []
  }
 ],
 "metadata": {
  "anaconda-cloud": {},
  "kernelspec": {
   "display_name": "Python 3 (ipykernel)",
   "language": "python",
   "name": "python3"
  },
  "language_info": {
   "codemirror_mode": {
    "name": "ipython",
    "version": 3
   },
   "file_extension": ".py",
   "mimetype": "text/x-python",
   "name": "python",
   "nbconvert_exporter": "python",
   "pygments_lexer": "ipython3",
   "version": "3.9.5"
  }
 },
 "nbformat": 4,
 "nbformat_minor": 1
}
